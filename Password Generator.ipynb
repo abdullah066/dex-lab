{
 "cells": [
  {
   "cell_type": "code",
   "execution_count": 98,
   "metadata": {},
   "outputs": [],
   "source": [
    "import random"
   ]
  },
  {
   "cell_type": "code",
   "execution_count": 99,
   "metadata": {},
   "outputs": [],
   "source": [
    "abc=\"abcdefghijklmnopqrstuvwxyz\"\n",
    "abcd=\"ABCDEFGHIJKLMNOPQRSTUVWXYZ\"\n",
    "num=\"1234567890\"\n",
    "sc=\"!@#$%^&*\""
   ]
  },
  {
   "cell_type": "code",
   "execution_count": 100,
   "metadata": {},
   "outputs": [
    {
     "name": "stdout",
     "output_type": "stream",
     "text": [
      "Enter the num of lower case you want: 3\n",
      "Enter the num of upper case you want: 2\n",
      "Enter the num of digits you want: 3\n",
      "Enter the num of characters you want: 1\n",
      "The length is within limits\n"
     ]
    }
   ],
   "source": [
    "while(True):\n",
    "    a1=int(input(\"Enter the num of lower case you want: \"))\n",
    "    a2=int(input(\"Enter the num of upper case you want: \"))\n",
    "    num1=int(input(\"Enter the num of digits you want: \"))\n",
    "    sc1=int(input(\"Enter the num of characters you want: \"))\n",
    "    l=a1+a2+num1+sc1\n",
    "    if(l>5 and l<17):\n",
    "        print(\"The length is within limits\")\n",
    "        break\n",
    "    else:\n",
    "        print(\"Length is not correct, try again!\")\n",
    "        continue\n",
    "    \n",
    "    "
   ]
  },
  {
   "cell_type": "code",
   "execution_count": 101,
   "metadata": {},
   "outputs": [],
   "source": [
    "pas=\"\"\n",
    "for i in range (1):\n",
    "    for j in range(a1):\n",
    "        pas=pas+abc[random.randint(0,23)]\n",
    "    for k in range(a2):\n",
    "         pas=pas+abcd[random.randint(0,23)]\n",
    "    for l in range(num1):   \n",
    "        pas=pas+num[random.randint(0,9)]\n",
    "    for m in range(sc1):\n",
    "        pas=pas+sc[random.randint(0,7)]"
   ]
  },
  {
   "cell_type": "code",
   "execution_count": 102,
   "metadata": {},
   "outputs": [
    {
     "name": "stdout",
     "output_type": "stream",
     "text": [
      "xWw25P#1n\n"
     ]
    }
   ],
   "source": [
    "pas\n",
    "p=list(pas)\n",
    "random.shuffle(p)\n",
    "print(''.join(p))"
   ]
  },
  {
   "cell_type": "code",
   "execution_count": null,
   "metadata": {},
   "outputs": [],
   "source": []
  },
  {
   "cell_type": "code",
   "execution_count": null,
   "metadata": {},
   "outputs": [],
   "source": []
  }
 ],
 "metadata": {
  "kernelspec": {
   "display_name": "Python 3",
   "language": "python",
   "name": "python3"
  },
  "language_info": {
   "codemirror_mode": {
    "name": "ipython",
    "version": 3
   },
   "file_extension": ".py",
   "mimetype": "text/x-python",
   "name": "python",
   "nbconvert_exporter": "python",
   "pygments_lexer": "ipython3",
   "version": "3.7.4"
  }
 },
 "nbformat": 4,
 "nbformat_minor": 2
}
